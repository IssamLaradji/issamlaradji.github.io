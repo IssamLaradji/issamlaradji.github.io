{
 "cells": [
  {
   "cell_type": "markdown",
   "metadata": {},
   "source": [
    "# MACHINE LEARNING STEPS\n",
    "\n",
    "1. Acquire Dataset\n",
    "2. Load Dataset\n",
    "3. Preprocess Dataset\n",
    "4. Run Learning Algorithms\n",
    "5. Evaluate Models\n",
    "6. Improve on your models\n",
    "\n",
    "![](ml_pipeline_large.png)\n",
    "\n",
    "## House price prediction\n",
    "![](cali.jpg)\n",
    "\n",
    "## Spam Detection\n",
    "![](data_format.png)\n",
    "\n",
    "## Digit image classification\n",
    "![](digits.png)"
   ]
  },
  {
   "cell_type": "markdown",
   "metadata": {},
   "source": [
    "# IMPORT ALL NEEDED LIBRARIES"
   ]
  },
  {
   "cell_type": "code",
   "execution_count": 1,
   "metadata": {
    "collapsed": false
   },
   "outputs": [],
   "source": [
    "import pandas as pd\n",
    "import sklearn\n",
    "from skimage.feature import hog, canny\n",
    "from sklearn.utils import shuffle\n",
    "from sklearn.naive_bayes import MultinomialNB\n",
    "from sklearn.datasets import fetch_california_housing, load_boston\n",
    "from sklearn.model_selection import ShuffleSplit, train_test_split\n",
    "from sklearn.ensemble import RandomForestRegressor\n",
    "from sklearn.metrics import classification_report\n",
    "import numpy as np        \n",
    "import pylab as plt\n",
    "from sklearn.model_selection import train_test_split \n",
    "from sklearn.feature_extraction.text import CountVectorizer\n",
    "from sklearn.linear_model import LinearRegression, LogisticRegression\n",
    "from mpl_toolkits.mplot3d import Axes3D\n",
    "from sklearn.metrics import confusion_matrix\n",
    "from sklearn.neighbors import KNeighborsRegressor\n",
    "from sklearn.neural_network import MLPRegressor\n",
    "from sklearn.tree import DecisionTreeRegressor\n",
    "from sklearn.model_selection import KFold\n",
    "from sklearn import datasets, svm, metrics\n",
    "from skimage.io import imread\n",
    "%matplotlib inline"
   ]
  },
  {
   "cell_type": "markdown",
   "metadata": {},
   "source": [
    "# REGRESSION: HOUSE PRICE PREDICTION\n",
    "\n",
    "![](house.jpeg)\n",
    "\n",
    "\n",
    "DATASET\n",
    "=======\n",
    "Boston Housing Data Set\n",
    "containing 506 house prices\n",
    "https://archive.ics.uci.edu/ml/datasets/Housing\n",
    "\n",
    "Features:\n",
    "=========\n",
    "\n",
    "1. CRIM: per capita crime rate by town \n",
    "2. ZN: proportion of residential land zoned for lots over 25,000 sq.ft. \n",
    "3. INDUS: proportion of non-retail business acres per town \n",
    "4. CHAS: Charles River dummy variable (= 1 if tract bounds river; 0 otherwise) \n",
    "5. NOX: nitric oxides concentration (parts per 10 million) \n",
    "6. RM: average number of rooms per dwelling \n",
    "7. AGE: proportion of owner-occupied units built prior to 1940 \n",
    "8. DIS: weighted distances to five Boston employment centres \n",
    "9. RAD: index of accessibility to radial highways \n",
    "10. TAX: full-value property-tax rate per 10,000 dollars\n",
    "11. PTRATIO: pupil-teacher ratio by town \n",
    "12. B: 1000(Bk - 0.63)^2 where Bk is the proportion of blacks by town \n",
    "13. LSTAT: Percentage lower status of the population \n",
    "14. MEDV: Median value of owner-occupied homes in 1000 dollars\n",
    "\n"
   ]
  },
  {
   "cell_type": "code",
   "execution_count": 2,
   "metadata": {
    "collapsed": false
   },
   "outputs": [
    {
     "name": "stdout",
     "output_type": "stream",
     "text": [
      "Features: ['CRIM' 'ZN' 'INDUS' 'CHAS' 'NOX' 'RM' 'AGE' 'DIS' 'RAD' 'TAX' 'PTRATIO'\n",
      " 'B' 'LSTAT']\n",
      "Price mean 22.533\n",
      "Price max 50.000\n",
      "Price min 5.000\n",
      "CRIM mean 3.594\n",
      "CRIM max 88.976\n",
      "CRIM min 0.006\n"
     ]
    }
   ],
   "source": [
    "# 1. VISUALIZE DATA\n",
    "data = load_boston()\n",
    "\n",
    "print(\"Features: %s\" % data.feature_names)\n",
    "X = data.data\n",
    "y = data.target\n",
    "\n",
    "df = pd.DataFrame(X, columns=data.feature_names)\n",
    "\n",
    "# GET PRICE MEAN, MAX, MIN\n",
    "print(\"Price mean %.3f\" % np.mean(y))\n",
    "print(\"Price max %.3f\" % np.max(y))\n",
    "print(\"Price min %.3f\" % np.min(y))\n",
    "\n",
    "# GET CRIME MEAN, MAX, MIN\n",
    "feature = \"CRIM\"\n",
    "print(\"%s mean %.3f\" % (feature, df[feature].mean()))\n",
    "print(\"%s max %.3f\" % (feature, df[feature].max()))\n",
    "print(\"%s min %.3f\" % (feature,df[feature].min()))\n",
    "\n"
   ]
  },
  {
   "cell_type": "code",
   "execution_count": 3,
   "metadata": {
    "collapsed": false
   },
   "outputs": [
    {
     "data": {
      "image/png": "[encoded data removed]",
      "text/plain": [
       "<matplotlib.figure.Figure at 0x7f2bf6152490>"
      ]
     },
     "metadata": {},
     "output_type": "display_data"
    },
    {
     "name": "stdout",
     "output_type": "stream",
     "text": [
      "Coefficients: [-0.41277468]\n",
      "Mean squared error: 71.85\n"
     ]
    }
   ],
   "source": [
    "# Compute correlations (try different columns)\n",
    "df = pd.DataFrame(X, columns=data.feature_names)\n",
    "feature = \"CRIM\"\n",
    "\n",
    "# PLOT SCATTER POINTS\n",
    "plt.scatter(df[feature], y)\n",
    "\n",
    "# Fit linear regression line\n",
    "clf = LinearRegression()\n",
    "\n",
    "Xi = df[[feature]]\n",
    "#TRAIN MODEL USING SPECIFIED FEATURE\n",
    "clf.fit(Xi, y)\n",
    "\n",
    "# PLOT LINEAR MODEL\n",
    "plt.plot(Xi, clf.predict(Xi), color=\"orange\") \n",
    "plt.xlabel(\"%s\" % feature)\n",
    "plt.ylabel(\"House Price\")\n",
    "plt.show()\n",
    "\n",
    "# The coefficients\n",
    "print('Coefficients: %s' % clf.coef_)\n",
    "\n",
    "# The mean squared error\n",
    "print(\"Mean squared error: %.2f\" % \n",
    "      np.mean((clf.predict(Xi) - y) ** 2))\n",
    "\n"
   ]
  },
  {
   "cell_type": "markdown",
   "metadata": {},
   "source": [
    "![](scikit-learn-flow-chart.jpg)"
   ]
  },
  {
   "cell_type": "markdown",
   "metadata": {},
   "source": [
    "# TRAIN AN ALGORITHM TO PREDICT HOUSE PRICES"
   ]
  },
  {
   "cell_type": "code",
   "execution_count": 4,
   "metadata": {
    "collapsed": false
   },
   "outputs": [
    {
     "name": "stdout",
     "output_type": "stream",
     "text": [
      "Linear Regression MSE 28.069\n"
     ]
    },
    {
     "data": {
      "image/png": "[encoded data removed]",
      "text/plain": [
       "<matplotlib.figure.Figure at 0x7f2bf6884950>"
      ]
     },
     "metadata": {},
     "output_type": "display_data"
    },
    {
     "name": "stdout",
     "output_type": "stream",
     "text": [
      "==================\n"
     ]
    }
   ],
   "source": [
    "# 2. TRAIN and Evaluate ALGORITHMS\n",
    "\n",
    "# PREPROCESS DATA (Z-scale your date)\n",
    "X = np.array(df)\n",
    "X = (X-X.mean(axis=0))/X.std(axis=0)\n",
    "\n",
    "# SPLIT DATA INTO TRAINING AND TESTING\n",
    "Xtrain, Xtest, ytrain, ytest = train_test_split(X, y)\n",
    "\n",
    "# GATHER A SET OF MODELS\n",
    "clf = LinearRegression()\n",
    "\n",
    "# SEE HOW THE MODEL PERFORMS ON THE TEST SET\n",
    "clf.fit(Xtrain, ytrain)\n",
    "y_pred = clf.predict(Xtest)\n",
    "\n",
    "mse = ((y_pred - ytest)**2).mean()\n",
    "print \"Linear Regression MSE %.3f\" % (mse)\n",
    "\n",
    "plt.scatter(np.arange(10), ytest[:10], label=\"True\")\n",
    "plt.scatter(np.arange(10), y_pred[:10], label=\"Pred\")\n",
    "plt.legend()\n",
    "plt.show()\n",
    "\n",
    "print \"==================\"\n",
    "    \n",
    "\n",
    "\n"
   ]
  },
  {
   "cell_type": "code",
   "execution_count": 5,
   "metadata": {
    "collapsed": false
   },
   "outputs": [
    {
     "name": "stdout",
     "output_type": "stream",
     "text": [
      "Decision Tree MSE 20.175\n"
     ]
    },
    {
     "data": {
      "image/png": "[encoded data removed]",
      "text/plain": [
       "<matplotlib.figure.Figure at 0x7f2c5c28b750>"
      ]
     },
     "metadata": {},
     "output_type": "display_data"
    },
    {
     "name": "stdout",
     "output_type": "stream",
     "text": [
      "==================\n",
      "Nearest Neighbor MSE 24.851\n"
     ]
    },
    {
     "data": {
      "image/png": "[encoded data removed]",
      "text/plain": [
       "<matplotlib.figure.Figure at 0x7f2bf5c72610>"
      ]
     },
     "metadata": {},
     "output_type": "display_data"
    },
    {
     "name": "stdout",
     "output_type": "stream",
     "text": [
      "==================\n",
      "Random Forests MSE 14.019\n"
     ]
    },
    {
     "data": {
      "image/png": "[encoded data removed]",
      "text/plain": [
       "<matplotlib.figure.Figure at 0x7f2bf5b331d0>"
      ]
     },
     "metadata": {},
     "output_type": "display_data"
    },
    {
     "name": "stdout",
     "output_type": "stream",
     "text": [
      "==================\n",
      "Neural Networks MSE 16.686\n"
     ]
    },
    {
     "name": "stderr",
     "output_type": "stream",
     "text": [
      "/home/wunderkind/anaconda2/lib/python2.7/site-packages/sklearn/neural_network/multilayer_perceptron.py:563: ConvergenceWarning: Stochastic Optimizer: Maximum iterations reached and the optimization hasn't converged yet.\n",
      "  % (), ConvergenceWarning)\n"
     ]
    },
    {
     "data": {
      "image/png": "[encoded data removed]",
      "text/plain": [
       "<matplotlib.figure.Figure at 0x7f2bf5a696d0>"
      ]
     },
     "metadata": {},
     "output_type": "display_data"
    },
    {
     "name": "stdout",
     "output_type": "stream",
     "text": [
      "==================\n",
      "Linear Regression MSE 26.020\n"
     ]
    },
    {
     "data": {
      "image/png": "[encoded data removed]",
      "text/plain": [
       "<matplotlib.figure.Figure at 0x7f2bf50d1f50>"
      ]
     },
     "metadata": {},
     "output_type": "display_data"
    },
    {
     "name": "stdout",
     "output_type": "stream",
     "text": [
      "==================\n"
     ]
    }
   ],
   "source": [
    "# 2. TRAIN and Evaluate ALGORITHMS\n",
    "\n",
    "# PREPROCESS DATA (Z-scale your date)\n",
    "X = np.array(df)\n",
    "X = (X-X.mean(axis=0))/X.std(axis=0)\n",
    "\n",
    "# SPLIT DATA INTO TRAINING AND TESTING\n",
    "Xtrain, Xtest, ytrain, ytest = train_test_split(X, y)\n",
    "\n",
    "# GATHER A SET OF MODELS\n",
    "models = {\"Nearest Neighbor\":KNeighborsRegressor(n_neighbors=2),\n",
    "          \"Linear Regression\":LinearRegression(),\n",
    "          \"Decision Tree\": DecisionTreeRegressor(),\\\n",
    "          \"Random Forests\": RandomForestRegressor(n_estimators=100),\n",
    "          \"Neural Networks\": MLPRegressor(hidden_layer_sizes=(200,), max_iter=1000)\n",
    "         }\n",
    "\n",
    "# SEE HOW EACH PERFORMS ON THE TEST SET\n",
    "for model in models:\n",
    "    clf = models[model]\n",
    "    clf.fit(Xtrain, ytrain)\n",
    "    y_pred = clf.predict(Xtest)\n",
    "    \n",
    "    mse = ((y_pred - ytest)**2).mean()\n",
    "    print \"%s MSE %.3f\" % (model, mse)\n",
    "    \n",
    "    plt.scatter(np.arange(10), ytest[:10], label=\"True\")\n",
    "    plt.scatter(np.arange(10), y_pred[:10], label=\"Pred\")\n",
    "    plt.legend()\n",
    "    plt.show()\n",
    "    \n",
    "    print \"==================\"\n",
    "    \n"
   ]
  },
  {
   "cell_type": "markdown",
   "metadata": {},
   "source": [
    "# CALIFORNIA HOUSING PRICE PREDICTION\n",
    "\n",
    "![](cali.jpg)\n",
    "http://www.dcc.fc.up.pt/~ltorgo/Regression/cal_housing.html\n",
    "\n",
    "Goal\n",
    "----\n",
    "This is a different datast. Find a sklearn algorithm that performs best on the testing set.\n",
    "\n",
    "\n",
    "FEATURES\n",
    "--------\n",
    "\n",
    "1. 'MedInc'\n",
    "2. 'HouseAge'\n",
    "3. 'AveRooms'\n",
    "4. 'AveBedrms'\n",
    "5. 'Population'\n",
    "6. 'AveOccup'\n",
    "7. 'Latitude'\n",
    "8. 'Longitude'"
   ]
  },
  {
   "cell_type": "code",
   "execution_count": 6,
   "metadata": {
    "collapsed": false
   },
   "outputs": [],
   "source": [
    "# QUICK EXERCISE\n",
    "from sklearn.datasets import fetch_california_housing\n",
    "\n",
    "data = fetch_california_housing()\n",
    "X = data.data\n",
    "y = data.target\n",
    "\n",
    "# PREPROCESS DATA (Z-scale)\n",
    "\n",
    "\n",
    "# SPLIT DATA INTO TRAINING AND TESTING\n",
    "\n",
    "\n",
    "# TRAIN DIFFERENT MODELS\n",
    "\n",
    "\n",
    "# EVALUATE MODEL\n",
    "\n",
    "# REPORT WHICH MODEL IS BEST\n"
   ]
  },
  {
   "cell_type": "markdown",
   "metadata": {},
   "source": [
    "# BACK TO THE BOSTON HOUSING PRICE PREDICTION\n",
    "\n",
    "## Cross-validation - 10-fold"
   ]
  },
  {
   "cell_type": "code",
   "execution_count": 7,
   "metadata": {
    "collapsed": false
   },
   "outputs": [
    {
     "name": "stdout",
     "output_type": "stream",
     "text": [
      "KNN MSE 21.062\n"
     ]
    }
   ],
   "source": [
    "# Cross-validation - 10fold\n",
    "data = load_boston()\n",
    "\n",
    "X = data.data\n",
    "X = (X-X.mean(axis=0))/X.std(axis=0)\n",
    "y = data.target\n",
    "\n",
    "# SPLIT DATA -CROSS VALIDATION\n",
    "n_splits = 10\n",
    "kf = KFold(n_splits=n_splits, shuffle=True)\n",
    "\n",
    "# TRAIN MODEL\n",
    "clf = KNeighborsRegressor(n_neighbors=2)\n",
    "\n",
    "mse = 0\n",
    "for train, test in kf.split(X):\n",
    "    clf.fit(X[train], y[train])\n",
    "    y_pred = clf.predict(X[test])\n",
    "\n",
    "    mse += ((y_pred - y[test])**2).mean()\n",
    "\n",
    "print \"KNN MSE %.3f\" % (mse / float(n_splits))\n"
   ]
  },
  {
   "cell_type": "code",
   "execution_count": 8,
   "metadata": {
    "collapsed": false
   },
   "outputs": [
    {
     "name": "stdout",
     "output_type": "stream",
     "text": [
      "KNN MSE 5.665\n"
     ]
    }
   ],
   "source": [
    "# Cross-validation - randomsplit\n",
    "data = load_boston()\n",
    "X = data.data\n",
    "X = (X-X.mean(axis=0))/X.std(axis=0)\n",
    "y = data.target\n",
    "\n",
    "# SPLIT DATA -CROSS VALIDATION\n",
    "Xtrain, Xtest, ytrain, ytest = train_test_split(X, y)\n",
    "\n",
    "# TRAIN MODEL\n",
    "clf = KNeighborsRegressor(n_neighbors=2)\n",
    "\n",
    "mse = 0\n",
    "\n",
    "clf.fit(Xtrain, ytrain)\n",
    "y_pred = clf.predict(X[test])\n",
    "\n",
    "mse = ((y_pred - y[test])**2).mean()\n",
    "\n",
    "print \"KNN MSE %.3f\" % (mse)\n"
   ]
  },
  {
   "cell_type": "markdown",
   "metadata": {},
   "source": [
    "# FINDING THE BEST PARAMETER"
   ]
  },
  {
   "cell_type": "code",
   "execution_count": 9,
   "metadata": {
    "collapsed": false
   },
   "outputs": [
    {
     "name": "stdout",
     "output_type": "stream",
     "text": [
      "RF with 1 neighbors MSE 27.132\n",
      "RF with 2 neighbors MSE 16.357\n",
      "RF with 5 neighbors MSE 13.441\n",
      "RF with 10 neighbors MSE 11.237\n",
      "RF with 20 neighbors MSE 12.054\n"
     ]
    }
   ],
   "source": [
    "# GRID SEARCH\n",
    "data = load_boston()\n",
    "\n",
    "X = data.data\n",
    "X = (X-X.mean(axis=0))/X.std(axis=0)\n",
    "y = data.target\n",
    "\n",
    "# SPLIT DATA -CROSS VALIDATION\n",
    "n_splits = 10\n",
    "kf = KFold(n_splits=n_splits, shuffle=True)\n",
    "\n",
    "# TRAIN MODEL (Exercise: Try with KNN)\n",
    "for n_estimators in [1,2,5,10,20]:\n",
    "    clf = RandomForestRegressor(n_estimators=n_estimators)\n",
    "    \n",
    "    mse = 0\n",
    "    for train, test in kf.split(X):\n",
    "        clf.fit(X[train], y[train])\n",
    "        y_pred = clf.predict(X[test])\n",
    "\n",
    "        mse += ((y_pred - y[test])**2).mean()\n",
    "\n",
    "    print \"RF with %d neighbors MSE %.3f\" % (n_estimators, mse / float(n_splits))\n"
   ]
  },
  {
   "cell_type": "markdown",
   "metadata": {},
   "source": [
    "# SHOW HOW INCREASING SAMPLE IMPROVES TEST\n",
    "\n",
    "## SANITY CHECK"
   ]
  },
  {
   "cell_type": "code",
   "execution_count": 10,
   "metadata": {
    "collapsed": false
   },
   "outputs": [
    {
     "name": "stdout",
     "output_type": "stream",
     "text": [
      "32.9478774331\n",
      "23.722547293\n",
      "21.9683030167\n",
      "21.627115244\n",
      "21.6840544156\n",
      "21.5879740403\n",
      "21.2907933977\n"
     ]
    },
    {
     "data": {
      "image/png": "[encoded data removed]",
      "text/plain": [
       "<matplotlib.figure.Figure at 0x7f2bf502de90>"
      ]
     },
     "metadata": {},
     "output_type": "display_data"
    }
   ],
   "source": [
    "# Samples\n",
    "data = load_boston()\n",
    "\n",
    "X = data.data\n",
    "X = (X-X.mean(axis=0))/X.std(axis=0)\n",
    "y = data.target\n",
    "\n",
    "clf = LinearRegression()\n",
    "X, y = shuffle(X, y)\n",
    "cutoff = 400\n",
    "X = (X-X.mean(axis=0))/X.std(axis=0)\n",
    "Xtrain, ytrain = X[:cutoff], y[:cutoff]\n",
    "Xtest, ytest = X[cutoff:], y[cutoff:]\n",
    "\n",
    "test_mse = []\n",
    "\n",
    "for i in range(50, cutoff, 50):\n",
    "    Xs, ys = Xtrain[:i], ytrain[:i]\n",
    "    \n",
    "    clf.fit(Xs, ys)\n",
    "    \n",
    "    y_pred = clf.predict(Xtest)\n",
    "    mse_test = ((y_pred - ytest)**2).mean()\n",
    "    print mse_test\n",
    "    test_mse += [mse_test]\n",
    "    \n",
    "plt.plot(np.arange(len(test_mse))*50, test_mse)\n",
    "plt.xlabel(\"n_samples\")\n",
    "plt.ylabel(\"MSE\")\n",
    "plt.title(\"Logistic Regression\")\n",
    "plt.show()"
   ]
  },
  {
   "cell_type": "markdown",
   "metadata": {},
   "source": [
    "# SHOW HOW SOME ALGORITHMS ARE SENSITIVE TO NOISE"
   ]
  },
  {
   "cell_type": "code",
   "execution_count": 11,
   "metadata": {
    "collapsed": false
   },
   "outputs": [
    {
     "data": {
      "image/png": "[encoded data removed]",
      "text/plain": [
       "<matplotlib.figure.Figure at 0x7f2bf4ff9ad0>"
      ]
     },
     "metadata": {},
     "output_type": "display_data"
    },
    {
     "data": {
      "image/png": "[encoded data removed]",
      "text/plain": [
       "<matplotlib.figure.Figure at 0x7f2bf5b0f490>"
      ]
     },
     "metadata": {},
     "output_type": "display_data"
    }
   ],
   "source": [
    "## NOISY DATA POINTS\n",
    "X = np.random.rand(200, 1)\n",
    "y = np.random.rand(200) * 1e4\n",
    "\n",
    "plt.scatter(X, y)\n",
    "\n",
    "clf = LinearRegression()\n",
    "clf.fit(X, y)\n",
    "plt.plot(X, clf.predict(X), color=\"orange\")\n",
    "plt.xlim([-0.3, 2.0+1.0])\n",
    "plt.ylim([-1e5/2, 1e5+1e5/2])\n",
    "plt.show()\n",
    "\n",
    "X[-1] = 2.0\n",
    "y[-1] = 1e5\n",
    "\n",
    "plt.scatter(X, y)\n",
    "\n",
    "clf.fit(X, y)\n",
    "plt.plot(X, clf.predict(X), color=\"orange\")\n",
    "plt.xlim([-0.3, 2.0+1.0])\n",
    "plt.ylim([-1e5/2, 1e5+1e5/2])\n",
    "plt.show()\n",
    "\n",
    "# EXERCISE: COMPUTE TRAIN SCORES\n",
    "#print(\"Test Score: %.3f\") \n",
    "\n",
    "# EXERCISE: WHICH MODEL IS MORE ROBUST TO NOISE ? \n",
    "# (CHANGE MODEL ABOVE)\n",
    "# LINKS TO MODELS: http://scikit-learn.org/stable/supervised_learning.html"
   ]
  },
  {
   "cell_type": "markdown",
   "metadata": {},
   "source": [
    "# FIND BEST FEATURES FOR PREDICTION"
   ]
  },
  {
   "cell_type": "code",
   "execution_count": 12,
   "metadata": {
    "collapsed": false
   },
   "outputs": [
    {
     "name": "stdout",
     "output_type": "stream",
     "text": [
      "0 - FEATURE CRIM - MSE 101.953\n",
      "1 - FEATURE ZN - MSE 73.261\n",
      "2 - FEATURE INDUS - MSE 54.709\n",
      "3 - FEATURE CHAS - MSE 84.939\n",
      "4 - FEATURE NOX - MSE 46.454\n",
      "5 - FEATURE RM - MSE 59.405\n",
      "6 - FEATURE AGE - MSE 105.162\n",
      "7 - FEATURE DIS - MSE 87.137\n",
      "8 - FEATURE RAD - MSE 69.008\n",
      "9 - FEATURE TAX - MSE 61.208\n",
      "10 - FEATURE PTRATIO - MSE 54.530\n",
      "11 - FEATURE B - MSE 106.838\n",
      "12 - FEATURE LSTAT - MSE 50.714\n"
     ]
    }
   ],
   "source": [
    "# MOST INFLUENTIAL FEATURES\n",
    "data = load_boston()\n",
    "\n",
    "X = data.data\n",
    "X = (X-X.mean(axis=0))/X.std(axis=0)\n",
    "y = data.target\n",
    "\n",
    "# SPLIT DATA\n",
    "Xtrain, Xtest, ytrain, ytest = train_test_split(X, y)\n",
    "\n",
    "clf = RandomForestRegressor()\n",
    "\n",
    "for i in range(X.shape[1]):\n",
    "    clf.fit(Xtrain[:, [i]], ytrain)\n",
    "    yhat = clf.predict(Xtest[:, [i]])\n",
    "\n",
    "    mse = ((yhat - ytest)**2).mean()\n",
    "\n",
    "    print \"%d - FEATURE %s - MSE %.3f\" % (i, data.feature_names[i], mse)"
   ]
  },
  {
   "cell_type": "markdown",
   "metadata": {},
   "source": [
    "# COMBINE A SET OF ALGORITHMS TO MAKE A PREDICTION"
   ]
  },
  {
   "cell_type": "code",
   "execution_count": 13,
   "metadata": {
    "collapsed": false
   },
   "outputs": [
    {
     "name": "stdout",
     "output_type": "stream",
     "text": [
      "Decision Tree MSE 20.439\n",
      "Nearest Neighbor MSE 16.979\n",
      "Random Forests MSE 10.052\n",
      "Neural Networks MSE 12.321\n",
      "Linear Regression MSE 23.358\n",
      "\n",
      "Training ENSEMBLE\n",
      "Ensemble MSE 9.913\n"
     ]
    }
   ],
   "source": [
    "# Ensemble Learning\n",
    "X = np.array(df)\n",
    "X = (X-X.mean(axis=0))/X.std(axis=0)\n",
    "y = data.target\n",
    "np.random.seed(0)\n",
    "\n",
    "n_splits = 10\n",
    "kf = KFold(n_splits=n_splits, random_state=2, shuffle=True)\n",
    "\n",
    "# QUICK EXERCISE ADD MODELS\n",
    "models = {\"Nearest Neighbor\":KNeighborsRegressor(n_neighbors=2),\n",
    "          \"Linear Regression\":LinearRegression(),\n",
    "          \"Decision Tree\": DecisionTreeRegressor(),\n",
    "          \"Random Forests\": RandomForestRegressor(n_estimators=100),\n",
    "          \"Neural Networks\": MLPRegressor(hidden_layer_sizes=(200,), max_iter=1000)\n",
    "         }\n",
    "\n",
    "for model in models:\n",
    "    clf = models[model]\n",
    "    \n",
    "    mse = 0\n",
    "    for train, test in kf.split(X):\n",
    "        clf.fit(X[train], y[train])\n",
    "        y_pred = clf.predict(X[test])\n",
    "        \n",
    "        mse += ((y_pred - y[test])**2).mean()\n",
    "        \n",
    "    \n",
    "    print \"%s MSE %.3f\" % (model, mse / float(n_splits))\n",
    "\n",
    "\n",
    "# ENSEMBLE\n",
    "print(\"\\nTraining ENSEMBLE\")\n",
    "mse = 0\n",
    "for train, test in kf.split(X):\n",
    "    y_pred = 0.\n",
    "    for model in models:\n",
    "        clf = models[model]\n",
    "        clf.fit(X[train], y[train])\n",
    "        y_pred += clf.predict(X[test])\n",
    "    \n",
    "    y_pred /= len(models)\n",
    "    mse += ((y_pred - y[test])**2).mean()\n",
    "\n",
    "\n",
    "print \"Ensemble MSE %.3f\" % (mse / float(n_splits))\n",
    "    "
   ]
  },
  {
   "cell_type": "markdown",
   "metadata": {},
   "source": [
    "# TRY THE ENSEMBLE LEARNIN METHOD ON THE CALIFORNIA HOUSING PROBLEM\n"
   ]
  },
  {
   "cell_type": "code",
   "execution_count": 14,
   "metadata": {
    "collapsed": false
   },
   "outputs": [
    {
     "name": "stdout",
     "output_type": "stream",
     "text": [
      "Nearest Neighbor MSE 0.491\n",
      "\n",
      "Training ENSEMBLE\n",
      "Ensemble MSE 0.323\n"
     ]
    }
   ],
   "source": [
    "# Ensemble Learning\n",
    "data = fetch_california_housing()\n",
    "X = data.data\n",
    "y = data.target\n",
    "\n",
    "# Z-scale data\n",
    "X = (X-X.mean(axis=0))/X.std(axis=0)\n",
    "\n",
    "# SPLIT DATA\n",
    "Xtrain, Xtest, ytrain, ytest = train_test_split(X, y)\n",
    "\n",
    "# QUICK EXERCISE ADD MODELS\n",
    "models = {\"Nearest Neighbor\":KNeighborsRegressor(n_neighbors=2)}\n",
    "\n",
    "for model in models:\n",
    "    clf = models[model]\n",
    "\n",
    "    clf.fit(Xtrain, ytrain)\n",
    "    ypred = clf.predict(Xtest)\n",
    "    mse = ((ypred - ytest)**2).mean()\n",
    "        \n",
    "    \n",
    "    print \"%s MSE %.3f\" % (model, mse)\n",
    "\n",
    "\n",
    "# ENSEMBLE\n",
    "print(\"\\nTraining ENSEMBLE\")\n",
    "\n",
    "y_pred = 0\n",
    "for model in models:\n",
    "    clf = models[model]\n",
    "    clf.fit(Xtrain, ytrain)\n",
    "    y_pred += clf.predict(X[test])\n",
    "\n",
    "y_pred /= len(models)\n",
    "mse = ((y_pred - y[test])**2).mean()\n",
    "\n",
    "\n",
    "print \"Ensemble MSE %.3f\" % (mse)\n",
    "\n",
    "# EXERCISE: IMPROVE ALGORITHM EVALUATION ACCURACY WITHOUT 10Fold"
   ]
  },
  {
   "cell_type": "markdown",
   "metadata": {},
   "source": [
    "# CLASSIFICATION: SPAM DETECTION\n",
    "\n",
    "DATASET\n",
    "=======\n",
    "\n",
    "https://archive.ics.uci.edu/ml/datasets/SMS+Spam+Collection\n",
    "\n",
    "\n",
    "5574 messages classified into spam and non-spam\n",
    "\n",
    "GOAL\n",
    "====\n",
    "\n",
    "Build classifier that can classify messages into spam and non-spam"
   ]
  },
  {
   "cell_type": "code",
   "execution_count": 15,
   "metadata": {
    "collapsed": false
   },
   "outputs": [
    {
     "name": "stdout",
     "output_type": "stream",
     "text": [
      "  label                                            message\n",
      "0   ham  Go until jurong point, crazy.. Available only ...\n",
      "1   ham                      Ok lar... Joking wif u oni...\n",
      "2  spam  Free entry in 2 a wkly comp to win FA Cup fina...\n",
      "3   ham  U dun say so early hor... U c already then say...\n",
      "4   ham  Nah I don't think he goes to usf, he lives aro...\n",
      "      label                                            message\n",
      "0  not_spam  Go until jurong point, crazy.. Available only ...\n",
      "1  not_spam                      Ok lar... Joking wif u oni...\n",
      "2      spam  Free entry in 2 a wkly comp to win FA Cup fina...\n",
      "3  not_spam  U dun say so early hor... U c already then say...\n",
      "4  not_spam  Nah I don't think he goes to usf, he lives aro...\n",
      "\n",
      "Length of each message\n",
      "                                             message  length\n",
      "0  Go until jurong point, crazy.. Available only ...     111\n",
      "1                      Ok lar... Joking wif u oni...      29\n",
      "2  Free entry in 2 a wkly comp to win FA Cup fina...     155\n",
      "3  U dun say so early hor... U c already then say...      49\n",
      "4  Nah I don't think he goes to usf, he lives aro...      61\n",
      "\n",
      "n_samples: 5572\n"
     ]
    }
   ],
   "source": [
    "# 1. LOAD SPAM DATASET\n",
    "messages = pd.read_csv(\"SMSSpamCollection\", sep=\"\\t\", \n",
    "                       names=[\"label\", \"message\"])\n",
    "\n",
    "# 2. print head\n",
    "print(messages.head())\n",
    "\n",
    "# 2.5 Change class label to a more meaningful name\n",
    "messages[\"label\"][messages[\"label\"]==\"ham\"] = \"not_spam\"\n",
    "\n",
    "print(messages.head())\n",
    "\n",
    "# 3. Length of each message\n",
    "messages['length'] = messages['message'].map(lambda text: len(text))\n",
    "print(\"\\nLength of each message\")\n",
    "print(messages[[\"message\",\"length\"]].head())\n",
    "\n",
    "# 4. GET SHAPE\n",
    "print(\"\\nn_samples: %d\" % messages.shape[0])\n",
    "\n"
   ]
  },
  {
   "cell_type": "code",
   "execution_count": 16,
   "metadata": {
    "collapsed": false
   },
   "outputs": [
    {
     "data": {
      "text/plain": [
       "71.558963730569943"
      ]
     },
     "execution_count": 16,
     "metadata": {},
     "output_type": "execute_result"
    }
   ],
   "source": [
    "messages.groupby(\"label\")[\"length\"].mean()[\"not_spam\"]"
   ]
  },
  {
   "cell_type": "code",
   "execution_count": 17,
   "metadata": {
    "collapsed": false
   },
   "outputs": [
    {
     "data": {
      "image/png": "[encoded data removed]",
      "text/plain": [
       "<matplotlib.figure.Figure at 0x7f2c62bd1150>"
      ]
     },
     "metadata": {},
     "output_type": "display_data"
    },
    {
     "data": {
      "image/png": "[encoded data removed]",
      "text/plain": [
       "<matplotlib.figure.Figure at 0x7f2bf5ba3e10>"
      ]
     },
     "metadata": {},
     "output_type": "display_data"
    }
   ],
   "source": [
    "# STATS ON LENGTH\n",
    "messages.length.plot(bins=20, kind='hist')\n",
    "messages.hist(column='length', by='label', bins=50)\n",
    "plt.show()\n",
    "\n"
   ]
  },
  {
   "cell_type": "code",
   "execution_count": 18,
   "metadata": {
    "collapsed": false
   },
   "outputs": [
    {
     "name": "stdout",
     "output_type": "stream",
     "text": [
      "Classification Score: 0.200\n"
     ]
    }
   ],
   "source": [
    "# QUICK MODEL (MEAN LENGTH)\n",
    "ns_mean = messages.groupby(\"label\")[\"length\"].mean()[\"not_spam\"]\n",
    "s_mean = messages.groupby(\"label\")[\"length\"].mean()[\"spam\"]\n",
    "\n",
    "# GET MEANS\n",
    "def predict(msg_test):\n",
    "    text = np.array(msg_test[\"message\"])\n",
    "    text_lengths = np.array(map(len, text))\n",
    "    \n",
    "    ypred = np.zeros(text_lengths.shape[0]).astype(object)\n",
    "    ypred[np.abs(text_lengths - ns_mean) > np.abs(text_lengths - s_mean)] = \"not_spam\"\n",
    "    ypred[np.abs(text_lengths - ns_mean) <= np.abs(text_lengths- s_mean)] = \"spam\"\n",
    "    \n",
    "    return ypred\n",
    "\n",
    "# GET ACCURACY\n",
    "ypred = predict(messages)\n",
    "y = messages[\"label\"]\n",
    "\n",
    "print \"Classification Score: %.3f\" % (ypred == y).mean()\n"
   ]
  },
  {
   "cell_type": "code",
   "execution_count": 19,
   "metadata": {
    "collapsed": true
   },
   "outputs": [],
   "source": [
    "# HOW TO TRAIN A LEARNING ALGORITHM ON THIS ?\n"
   ]
  },
  {
   "cell_type": "code",
   "execution_count": 20,
   "metadata": {
    "collapsed": false
   },
   "outputs": [
    {
     "name": "stdout",
     "output_type": "stream",
     "text": [
      "   and  document  first  is  one  second  the  third  this\n",
      "0    0         1      1   1    0       0    2      0     1\n",
      "1    0         1      0   1    0       2    1      0     1\n",
      "2    1         0      0   0    1       0    1      1     0\n",
      "3    0         1      1   1    0       0    1      0     1\n"
     ]
    }
   ],
   "source": [
    "# SMALL DOCUMENT\n",
    "documents = [\n",
    "    'This is the the first document.',\n",
    "    'This is the second second document.',\n",
    "    'And the third one.',\n",
    "    'Is this the first document?',\n",
    "]\n",
    "vec = CountVectorizer()\n",
    "X = vec.fit_transform(documents).toarray()\n",
    "# print(vec.get_feature_names())\n",
    "# print(X)\n",
    "print(pd.DataFrame(X, columns=vec.get_feature_names()))\n",
    "\n"
   ]
  },
  {
   "cell_type": "code",
   "execution_count": 21,
   "metadata": {
    "collapsed": false
   },
   "outputs": [
    {
     "name": "stdout",
     "output_type": "stream",
     "text": [
      "      label                                            message\n",
      "0  not_spam  Go until jurong point, crazy.. Available only ...\n",
      "1  not_spam                      Ok lar... Joking wif u oni...\n",
      "2      spam  Free entry in 2 a wkly comp to win FA Cup fina...\n",
      "3  not_spam  U dun say so early hor... U c already then say...\n",
      "4  not_spam  Nah I don't think he goes to usf, he lives aro...\n",
      "Test error 0.980\n",
      "\n",
      "Confusion matrix\n",
      "\n",
      "label     not_spam  spam\n",
      "row_0                   \n",
      "not_spam      1181     9\n",
      "spam            19   184\n"
     ]
    }
   ],
   "source": [
    "# APPLY IT ON THE SPAM DATASET\n",
    "# 1. LOAD SPAM DATASET\n",
    "messages = pd.read_csv(\"SMSSpamCollection\", sep=\"\\t\", \n",
    "                       names=[\"label\", \"message\"])\n",
    "\n",
    "\n",
    "\n",
    "# 2.5 Change class label to a more meaningful name\n",
    "messages[\"label\"][messages[\"label\"]==\"ham\"] = \"not_spam\"\n",
    "# 2. print head\n",
    "print(messages.head())\n",
    "\n",
    "# DATA PREPROCESSING\n",
    "vec = CountVectorizer()\n",
    "X = vec.fit_transform(messages[\"message\"]).toarray()\n",
    "y = messages[\"label\"]\n",
    "\n",
    "# SPLIT SET INTO TRAINING AND TESTING\n",
    "Xtrain, Xtest, ytrain, ytest = train_test_split(X, y)\n",
    "\n",
    "\n",
    "# CLASSIFICATION ALGORITHM\n",
    "spam_detector = MultinomialNB()\n",
    "spam_detector.fit(Xtrain, ytrain)\n",
    "\n",
    "ypred = spam_detector.predict(Xtest)\n",
    "\n",
    "# EVALUATE\n",
    "print(\"Test error %.3f\" % (ytest == ypred).mean())\n",
    "\n",
    "\n",
    "print('\\nConfusion matrix\\n')\n",
    "print(pd.crosstab(ypred, ytest))\n",
    "\n"
   ]
  },
  {
   "cell_type": "markdown",
   "metadata": {},
   "source": [
    "# 20NEWSGROUPS \n",
    "![](class.jpg)\n",
    "\n",
    "GOAL\n",
    "====\n",
    "\n",
    "CLASSIFY DOCUMENTS BASED ON CATEGORY\n",
    "\n",
    "CATEGORIES\n",
    "==========\n",
    "![](classes.png)"
   ]
  },
  {
   "cell_type": "code",
   "execution_count": 22,
   "metadata": {
    "collapsed": true
   },
   "outputs": [],
   "source": [
    "# QUICK EXERCISE\n",
    "from sklearn.datasets import fetch_20newsgroups\n",
    "\n",
    "data = fetch_20newsgroups()\n",
    "\n",
    "# PREPROCESS DATA\n",
    "\n",
    "# SPLIT DATA INTO TRAINING AND TESTING\n",
    "\n",
    "# TRAIN MODEL\n",
    "\n",
    "# EVALUATE MODEL\n",
    "\n",
    "# WHICH WORDS ARE MOST INFLUENTIAL ?"
   ]
  },
  {
   "cell_type": "markdown",
   "metadata": {},
   "source": [
    "# MNIST DATASET\n",
    "\n",
    "![](digits.png)\n",
    "GOAL\n",
    "====\n",
    "Predict the right digit shown in the image\n",
    "\n",
    "FEATURES\n",
    "========\n",
    "Gray pixels\n",
    "\n",
    "\n"
   ]
  },
  {
   "cell_type": "code",
   "execution_count": 23,
   "metadata": {
    "collapsed": false
   },
   "outputs": [
    {
     "name": "stdout",
     "output_type": "stream",
     "text": [
      "(1797, 64)\n"
     ]
    },
    {
     "data": {
      "image/png": "[encoded data removed]",
      "text/plain": [
       "<matplotlib.figure.Figure at 0x7f2bf5b33610>"
      ]
     },
     "metadata": {},
     "output_type": "display_data"
    },
    {
     "data": {
      "image/png": "[encoded data removed]",
      "text/plain": [
       "<matplotlib.figure.Figure at 0x7f2bf5b33b10>"
      ]
     },
     "metadata": {},
     "output_type": "display_data"
    }
   ],
   "source": [
    "# LOAD THE DATASET\n",
    "digits = datasets.load_digits()\n",
    "\n",
    "X = digits.data\n",
    "y = digits.target\n",
    "\n",
    "# GET DATASET SHAPE\n",
    "print(X.shape)\n",
    "\n",
    "# RESHAPE DATA TO IMAGES\n",
    "Xr = np.reshape(X, (X.shape[0], 8, 8))\n",
    "\n",
    "# PLOT SOME IMAGES\n",
    "plt.imshow(Xr[0], cmap=\"gray\")\n",
    "plt.title(\"Number %d\" % y[0])\n",
    "plt.show()\n",
    "\n",
    "plt.imshow(Xr[5], cmap=\"gray\")\n",
    "plt.title(\"Number %d\" % y[5])\n",
    "plt.show()\n",
    "\n",
    "# QUICK EXERCISE PLOT OTHER NUMBERS\n",
    "\n"
   ]
  },
  {
   "cell_type": "code",
   "execution_count": 24,
   "metadata": {
    "collapsed": false
   },
   "outputs": [
    {
     "name": "stdout",
     "output_type": "stream",
     "text": [
      "0.946666666667\n",
      "col_0   0   1   2   3   4   5   6   7   8   9\n",
      "row_0                                        \n",
      "0      42   0   0   0   0   0   0   0   0   0\n",
      "1       0  45   0   1   0   0   0   0   3   1\n",
      "2       0   0  47   0   0   0   0   0   0   0\n",
      "3       0   0   0  42   0   2   0   3   1   0\n",
      "4       0   2   0   0  36   0   0   0   1   1\n",
      "5       0   0   0   0   0  52   0   0   0   0\n",
      "6       0   0   0   0   0   0  42   0   1   0\n",
      "7       0   0   0   0   0   0   0  48   1   0\n",
      "8       0   2   0   0   0   0   0   0  38   0\n",
      "9       0   0   0   1   0   1   0   1   2  34\n"
     ]
    },
    {
     "data": {
      "image/png": "[encoded data removed]",
      "text/plain": [
       "<matplotlib.figure.Figure at 0x7f2bf500ec10>"
      ]
     },
     "metadata": {},
     "output_type": "display_data"
    }
   ],
   "source": [
    "np.random.seed(2)\n",
    "\n",
    "# LOAD THE DATASET\n",
    "digits = datasets.load_digits()\n",
    "\n",
    "X = digits.data\n",
    "y = digits.target\n",
    "\n",
    "# EXTRACT FEATURES \n",
    "# Exercise for later\n",
    "# Xr = np.reshape(X, (X.shape[0], 8, 8))\n",
    "# # func = lambda x, vis: hog(x, orientations=9, \n",
    "# #                           visualise=vis,\n",
    "# #                           pixels_per_cell=(2, 2),\n",
    "# #                           cells_per_block=(1, 1))\n",
    "# # img = canny(Xr[0])\n",
    "# # plt.imshow(img, cmap=\"gray\")\n",
    "# # plt.show()\n",
    "# # plt.imshow(Xr[0], cmap=\"gray\")\n",
    "# # plt.show()\n",
    "# # sas\n",
    "# # X = np.array(map(lambda x: hog(x, orientations=9,\n",
    "# #                           pixels_per_cell=(2, 2),\n",
    "# #                           cells_per_block=(1, 1), list(Xr)))\n",
    "# # X = np.reshape(X, (X.shape[0], -1))\n",
    "\n",
    "# SPLIT DATA INTO TRAIN AND TEST\n",
    "Xtrain, Xtest, ytrain, ytest = train_test_split(X, y)\n",
    "\n",
    "# TRAIN SVM ALGORITHM\n",
    "clf = LogisticRegression()\n",
    "\n",
    "# We learn the digits on the first half of the digits\n",
    "clf.fit(Xtrain, ytrain)\n",
    "\n",
    "# EVALUATE\n",
    "ypred = clf.predict(Xtest)\n",
    "print(ytest == ypred).mean()\n",
    "\n",
    "print(pd.crosstab(ytest, ypred))\n",
    "\n",
    "\n",
    "# Find these mistakes (Try for others)\n",
    "indices = (ypred==5) & (ytest==3)\n",
    "\n",
    "x_test = Xtest[indices][0]\n",
    "y_test = ytest[indices][0]\n",
    "plt.imshow(np.reshape(x_test, (8,8)), cmap=\"gray\")\n",
    "plt.title(\"predicted as %d - true is %d\" % \n",
    "          (clf.predict([x_test]), y_test))\n",
    "plt.show()"
   ]
  },
  {
   "cell_type": "markdown",
   "metadata": {},
   "source": [
    "# Take Home Message\n",
    "\n",
    "\n",
    "1. Acquire Dataset\n",
    "2. Load Dataset\n",
    "3. Preprocess Dataset\n",
    "4. Run Learning Algorithms\n",
    "5. Evaluate Models\n",
    "6. Improve on your models\n",
    "\n",
    "![](ml_pipeline_large.png)\n",
    "\n",
    "\n",
    "![](scikit-learn-flow-chart.jpg)\n",
    "\n",
    "http://scikit-learn.org/stable/supervised_learning.html"
   ]
  }
 ],
 "metadata": {
  "kernelspec": {
   "display_name": "Python 2",
   "language": "python",
   "name": "python2"
  },
  "language_info": {
   "codemirror_mode": {
    "name": "ipython",
    "version": 2
   },
   "file_extension": ".py",
   "mimetype": "text/x-python",
   "name": "python",
   "nbconvert_exporter": "python",
   "pygments_lexer": "ipython2",
   "version": "2.7.11"
  }
 },
 "nbformat": 4,
 "nbformat_minor": 0
}
