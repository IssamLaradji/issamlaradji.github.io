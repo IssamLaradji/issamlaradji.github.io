{
 "cells": [
  {
   "cell_type": "code",
   "execution_count": 512,
   "metadata": {
    "collapsed": false
   },
   "outputs": [
    {
     "name": "stdout",
     "output_type": "stream",
     "text": [
      "Hello\n"
     ]
    }
   ],
   "source": [
    "# Hello World\n",
    "print \"Hello\""
   ]
  },
  {
   "cell_type": "code",
   "execution_count": 428,
   "metadata": {
    "collapsed": false
   },
   "outputs": [],
   "source": [
    "# (Numbers) Write code to print number 34\n",
    "print 34"
   ]
  },
  {
   "cell_type": "code",
   "execution_count": 429,
   "metadata": {
    "collapsed": false
   },
   "outputs": [],
   "source": [
    "# (Numbers) Write code to print the number 34 * 12\n"
   ]
  },
  {
   "cell_type": "code",
   "execution_count": 430,
   "metadata": {
    "collapsed": false
   },
   "outputs": [],
   "source": [
    "# (Numbers) Write code to print the number 34 * 12 + 15 * 16 \n",
    "# using variables\n"
   ]
  },
  {
   "cell_type": "code",
   "execution_count": 432,
   "metadata": {
    "collapsed": false
   },
   "outputs": [],
   "source": [
    "# (Numbers) Write code to print the number log(120)^2\n",
    "\n"
   ]
  },
  {
   "cell_type": "code",
   "execution_count": 433,
   "metadata": {
    "collapsed": false
   },
   "outputs": [
    {
     "data": {
      "text/plain": [
       "8"
      ]
     },
     "execution_count": 433,
     "metadata": {},
     "output_type": "execute_result"
    }
   ],
   "source": [
    "# Functions example\n",
    "def f(x):\n",
    "    return x + 3\n",
    "\n",
    "f(5)"
   ]
  },
  {
   "cell_type": "code",
   "execution_count": 434,
   "metadata": {
    "collapsed": false
   },
   "outputs": [],
   "source": [
    "# Report the number of f(25)\n",
    "def f(x):\n",
    "    return np.log(3*(x**2) + 3)\n",
    "\n"
   ]
  },
  {
   "cell_type": "code",
   "execution_count": 435,
   "metadata": {
    "collapsed": false
   },
   "outputs": [],
   "source": [
    "# Write a function that returns the log(x^3) + 5 "
   ]
  },
  {
   "cell_type": "code",
   "execution_count": 437,
   "metadata": {
    "collapsed": false
   },
   "outputs": [],
   "source": [
    "# Write a function that returns the x^3 + y^2\n"
   ]
  },
  {
   "cell_type": "markdown",
   "metadata": {},
   "source": [
    "# Conditionals"
   ]
  },
  {
   "cell_type": "code",
   "execution_count": null,
   "metadata": {
    "collapsed": true
   },
   "outputs": [],
   "source": [
    "# Write function that returns True if input is positive, \n",
    "# negative otherwise\n",
    "def pos_neg(n):\n",
    "    if n > 0:\n",
    "        return True\n",
    "    else:\n",
    "        return False"
   ]
  },
  {
   "cell_type": "code",
   "execution_count": null,
   "metadata": {
    "collapsed": true
   },
   "outputs": [],
   "source": [
    "# Write function that returns True if input is larger than 100, \n",
    "# negative otherwise"
   ]
  },
  {
   "cell_type": "code",
   "execution_count": null,
   "metadata": {
    "collapsed": true
   },
   "outputs": [],
   "source": [
    "# 24 hour clock, \n",
    "# annoying if construction noise is between 7 and 20\n",
    "\n",
    "# Write function that returns True if between 7 and 20; \n",
    "# false otherwise\n"
   ]
  },
  {
   "cell_type": "markdown",
   "metadata": {},
   "source": [
    "# For loops"
   ]
  },
  {
   "cell_type": "code",
   "execution_count": 16,
   "metadata": {
    "collapsed": false
   },
   "outputs": [
    {
     "data": {
      "text/plain": [
       "32"
      ]
     },
     "execution_count": 16,
     "metadata": {},
     "output_type": "execute_result"
    }
   ],
   "source": [
    "# Define list\n",
    "ls = [2, 5, 6, 9, 10]\n",
    "\n",
    "# Sum the elements of the list\n",
    "s = 0\n",
    "for l in ls:\n",
    "    s = s + l\n",
    "    \n",
    "s"
   ]
  },
  {
   "cell_type": "code",
   "execution_count": 438,
   "metadata": {
    "collapsed": false
   },
   "outputs": [],
   "source": [
    "# Define list\n",
    "ls = [2, 5, 6, 9, 10]\n",
    "\n",
    "# Write the for loop computing the products \n",
    "# of the elements of the list\n"
   ]
  },
  {
   "cell_type": "code",
   "execution_count": 496,
   "metadata": {
    "collapsed": true
   },
   "outputs": [],
   "source": [
    "# Define list\n",
    "ls = [2, 5, 6, 9, 10]\n",
    "la = [-1, 3, 4, 5, 12]\n",
    "\n",
    "# Compute element-wise products between ls and \n",
    "# la and get their sum"
   ]
  },
  {
   "cell_type": "markdown",
   "metadata": {},
   "source": [
    "I recommend http://codingbat.com/python to learn python quickly!"
   ]
  },
  {
   "cell_type": "markdown",
   "metadata": {},
   "source": []
  },
  {
   "cell_type": "code",
   "execution_count": 440,
   "metadata": {
    "collapsed": false
   },
   "outputs": [],
   "source": [
    "# (String) Write code to print hello world\n"
   ]
  },
  {
   "cell_type": "code",
   "execution_count": 439,
   "metadata": {
    "collapsed": false
   },
   "outputs": [],
   "source": [
    "# (String) Write code to print hello world using the two vars below\n",
    "a = \"hello\"\n",
    "b = \"world\"\n",
    "\n"
   ]
  },
  {
   "cell_type": "code",
   "execution_count": 441,
   "metadata": {
    "collapsed": false
   },
   "outputs": [],
   "source": [
    "# Write a function that prints 'Hello your_name' \n",
    "# where your_name is the input string to the function\n"
   ]
  },
  {
   "cell_type": "code",
   "execution_count": 32,
   "metadata": {
    "collapsed": false
   },
   "outputs": [
    {
     "data": {
      "text/plain": [
       "100"
      ]
     },
     "execution_count": 32,
     "metadata": {},
     "output_type": "execute_result"
    }
   ],
   "source": [
    "# Numpy arrays, numerical python\n",
    "\n",
    "# Compute the vector products\n",
    "a = np.array([3,2,1,4,5,6])\n",
    "b = np.array([6,2,1,4,5,6])\n",
    "\n",
    "a.dot(b)"
   ]
  },
  {
   "cell_type": "code",
   "execution_count": 442,
   "metadata": {
    "collapsed": false
   },
   "outputs": [
    {
     "ename": "TypeError",
     "evalue": "unsupported operand type(s) for ** or pow(): 'str' and 'int'",
     "output_type": "error",
     "traceback": [
      "\u001b[1;31m---------------------------------------------------------------------------\u001b[0m",
      "\u001b[1;31mTypeError\u001b[0m                                 Traceback (most recent call last)",
      "\u001b[1;32m<ipython-input-442-3708592f7cee>\u001b[0m in \u001b[0;36m<module>\u001b[1;34m()\u001b[0m\n\u001b[0;32m      1\u001b[0m \u001b[1;33m\u001b[0m\u001b[0m\n\u001b[0;32m      2\u001b[0m \u001b[1;31m# Element-wise squaring of the vector (or array)\u001b[0m\u001b[1;33m\u001b[0m\u001b[1;33m\u001b[0m\u001b[0m\n\u001b[1;32m----> 3\u001b[1;33m \u001b[0ma\u001b[0m \u001b[1;33m**\u001b[0m \u001b[1;36m2\u001b[0m\u001b[1;33m\u001b[0m\u001b[0m\n\u001b[0m",
      "\u001b[1;31mTypeError\u001b[0m: unsupported operand type(s) for ** or pow(): 'str' and 'int'"
     ]
    }
   ],
   "source": [
    "# Element-wise squaring of the vector (or array)\n",
    "a ** 2"
   ]
  },
  {
   "cell_type": "code",
   "execution_count": 497,
   "metadata": {
    "collapsed": false
   },
   "outputs": [
    {
     "data": {
      "text/plain": [
       "<matplotlib.legend.Legend at 0x7f53fe92a890>"
      ]
     },
     "execution_count": 497,
     "metadata": {},
     "output_type": "execute_result"
    },
    {
     "data": {
      "image/png": "[encoded data removed]",
      "text/plain": [
       "<matplotlib.figure.Figure at 0x7f53fde6eb50>"
      ]
     },
     "metadata": {},
     "output_type": "display_data"
    }
   ],
   "source": [
    "# Visualization\n",
    "import pylab as plt\n",
    "plt.rcParams[\"figure.figsize\"] = (20,13)\n",
    "%matplotlib inline \n",
    "\n",
    "x = np.array([1, 2, 3, 4, 5, 6, 7, 8])\n",
    "y = np.array([1, 2, 3, 4, 5, 6, 7, 8])\n",
    "\n",
    "plt.plot(x, y, label=\"y=x\")\n",
    "\n",
    "# Plot y = x^2\n",
    "# Plot y = x^3\n",
    "\n",
    "plt.legend()"
   ]
  },
  {
   "cell_type": "markdown",
   "metadata": {},
   "source": []
  },
  {
   "cell_type": "code",
   "execution_count": 498,
   "metadata": {
    "collapsed": false
   },
   "outputs": [
    {
     "data": {
      "text/plain": [
       "Index([u'PassengerId', u'Survived', u'Pclass', u'Name', u'Sex', u'Age',\n",
       "       u'SibSp', u'Parch', u'Ticket', u'Fare', u'Cabin', u'Embarked'],\n",
       "      dtype='object')"
      ]
     },
     "execution_count": 498,
     "metadata": {},
     "output_type": "execute_result"
    }
   ],
   "source": [
    "import pandas as pd\n",
    "pd.options.mode.chained_assignment = None\n",
    "data = pd.read_csv(\"titanic.csv\")\n",
    "data = data.dropna()\n",
    "\n",
    "data.columns"
   ]
  },
  {
   "cell_type": "code",
   "execution_count": 473,
   "metadata": {
    "collapsed": false
   },
   "outputs": [
    {
     "data": {
      "text/html": [
       "<div>\n",
       "<table border=\"1\" class=\"dataframe\">\n",
       "  <thead>\n",
       "    <tr style=\"text-align: right;\">\n",
       "      <th></th>\n",
       "      <th>PassengerId</th>\n",
       "      <th>Survived</th>\n",
       "      <th>Pclass</th>\n",
       "      <th>Name</th>\n",
       "      <th>Sex</th>\n",
       "      <th>Age</th>\n",
       "      <th>SibSp</th>\n",
       "      <th>Parch</th>\n",
       "      <th>Ticket</th>\n",
       "      <th>Fare</th>\n",
       "      <th>Cabin</th>\n",
       "      <th>Embarked</th>\n",
       "    </tr>\n",
       "  </thead>\n",
       "  <tbody>\n",
       "    <tr>\n",
       "      <th>1</th>\n",
       "      <td>2</td>\n",
       "      <td>1</td>\n",
       "      <td>1</td>\n",
       "      <td>Cumings, Mrs. John Bradley (Florence Briggs Th...</td>\n",
       "      <td>female</td>\n",
       "      <td>38.0</td>\n",
       "      <td>1</td>\n",
       "      <td>0</td>\n",
       "      <td>PC 17599</td>\n",
       "      <td>71.2833</td>\n",
       "      <td>C85</td>\n",
       "      <td>C</td>\n",
       "    </tr>\n",
       "    <tr>\n",
       "      <th>3</th>\n",
       "      <td>4</td>\n",
       "      <td>1</td>\n",
       "      <td>1</td>\n",
       "      <td>Futrelle, Mrs. Jacques Heath (Lily May Peel)</td>\n",
       "      <td>female</td>\n",
       "      <td>35.0</td>\n",
       "      <td>1</td>\n",
       "      <td>0</td>\n",
       "      <td>113803</td>\n",
       "      <td>53.1000</td>\n",
       "      <td>C123</td>\n",
       "      <td>S</td>\n",
       "    </tr>\n",
       "    <tr>\n",
       "      <th>6</th>\n",
       "      <td>7</td>\n",
       "      <td>0</td>\n",
       "      <td>1</td>\n",
       "      <td>McCarthy, Mr. Timothy J</td>\n",
       "      <td>male</td>\n",
       "      <td>54.0</td>\n",
       "      <td>0</td>\n",
       "      <td>0</td>\n",
       "      <td>17463</td>\n",
       "      <td>51.8625</td>\n",
       "      <td>E46</td>\n",
       "      <td>S</td>\n",
       "    </tr>\n",
       "    <tr>\n",
       "      <th>10</th>\n",
       "      <td>11</td>\n",
       "      <td>1</td>\n",
       "      <td>3</td>\n",
       "      <td>Sandstrom, Miss. Marguerite Rut</td>\n",
       "      <td>female</td>\n",
       "      <td>4.0</td>\n",
       "      <td>1</td>\n",
       "      <td>1</td>\n",
       "      <td>PP 9549</td>\n",
       "      <td>16.7000</td>\n",
       "      <td>G6</td>\n",
       "      <td>S</td>\n",
       "    </tr>\n",
       "    <tr>\n",
       "      <th>11</th>\n",
       "      <td>12</td>\n",
       "      <td>1</td>\n",
       "      <td>1</td>\n",
       "      <td>Bonnell, Miss. Elizabeth</td>\n",
       "      <td>female</td>\n",
       "      <td>58.0</td>\n",
       "      <td>0</td>\n",
       "      <td>0</td>\n",
       "      <td>113783</td>\n",
       "      <td>26.5500</td>\n",
       "      <td>C103</td>\n",
       "      <td>S</td>\n",
       "    </tr>\n",
       "  </tbody>\n",
       "</table>\n",
       "</div>"
      ],
      "text/plain": [
       "    PassengerId  Survived  Pclass  \\\n",
       "1             2         1       1   \n",
       "3             4         1       1   \n",
       "6             7         0       1   \n",
       "10           11         1       3   \n",
       "11           12         1       1   \n",
       "\n",
       "                                                 Name     Sex   Age  SibSp  \\\n",
       "1   Cumings, Mrs. John Bradley (Florence Briggs Th...  female  38.0      1   \n",
       "3        Futrelle, Mrs. Jacques Heath (Lily May Peel)  female  35.0      1   \n",
       "6                             McCarthy, Mr. Timothy J    male  54.0      0   \n",
       "10                    Sandstrom, Miss. Marguerite Rut  female   4.0      1   \n",
       "11                           Bonnell, Miss. Elizabeth  female  58.0      0   \n",
       "\n",
       "    Parch    Ticket     Fare Cabin Embarked  \n",
       "1       0  PC 17599  71.2833   C85        C  \n",
       "3       0    113803  53.1000  C123        S  \n",
       "6       0     17463  51.8625   E46        S  \n",
       "10      1   PP 9549  16.7000    G6        S  \n",
       "11      0    113783  26.5500  C103        S  "
      ]
     },
     "execution_count": 473,
     "metadata": {},
     "output_type": "execute_result"
    }
   ],
   "source": [
    "data.head()"
   ]
  },
  {
   "cell_type": "code",
   "execution_count": 511,
   "metadata": {
    "collapsed": false
   },
   "outputs": [
    {
     "name": "stdout",
     "output_type": "stream",
     "text": [
      "Sex\n",
      "female    0.326761\n",
      "male      0.384518\n",
      "Name: normalized, dtype: float64\n"
     ]
    },
    {
     "data": {
      "text/html": [
       "<div>\n",
       "<table border=\"1\" class=\"dataframe\">\n",
       "  <thead>\n",
       "    <tr style=\"text-align: right;\">\n",
       "      <th></th>\n",
       "      <th>normalized</th>\n",
       "    </tr>\n",
       "    <tr>\n",
       "      <th>Sex</th>\n",
       "      <th></th>\n",
       "    </tr>\n",
       "  </thead>\n",
       "  <tbody>\n",
       "    <tr>\n",
       "      <th>female</th>\n",
       "      <td>0.326761</td>\n",
       "    </tr>\n",
       "    <tr>\n",
       "      <th>male</th>\n",
       "      <td>0.384518</td>\n",
       "    </tr>\n",
       "  </tbody>\n",
       "</table>\n",
       "</div>"
      ],
      "text/plain": [
       "        normalized\n",
       "Sex               \n",
       "female    0.326761\n",
       "male      0.384518"
      ]
     },
     "execution_count": 511,
     "metadata": {},
     "output_type": "execute_result"
    }
   ],
   "source": [
    "# Basic Data Operations\n",
    "# Max, Mean, Median, Min, Percentiles, Standard deviation\n",
    "# Count\n",
    "\n",
    "\n",
    "\n",
    "# Normalize all ages\n",
    "data['normalized'] = data.apply(lambda x: x[\"Age\"]/100., axis=1)\n",
    "\n",
    "# Get mean by group\n",
    "print data.groupby(\"Sex\")[\"normalized\"].mean()\n",
    "\n",
    "pd.DataFrame(data.groupby(\"Sex\")[\"normalized\"].mean())"
   ]
  },
  {
   "cell_type": "code",
   "execution_count": 475,
   "metadata": {
    "collapsed": false
   },
   "outputs": [
    {
     "name": "stdout",
     "output_type": "stream",
     "text": [
      "males 95\n"
     ]
    }
   ],
   "source": [
    "# Gender based prediction of survival\n",
    "\n",
    "# Number of males\n",
    "cond = data[\"Sex\"] == \"male\"\n",
    "print \"males\", len(data[cond])\n",
    "\n",
    "# Number of females\n"
   ]
  },
  {
   "cell_type": "code",
   "execution_count": 476,
   "metadata": {
    "collapsed": false
   },
   "outputs": [
    {
     "name": "stdout",
     "output_type": "stream",
     "text": [
      "males 0.431578947368\n"
     ]
    }
   ],
   "source": [
    "# Number of males that survived\n",
    "cond1 = (data[\"Sex\"] == \"male\") & (data[\"Survived\"] == 1)\n",
    "cond2 = (data[\"Sex\"] == \"male\")\n",
    "print \"males\", len(data[cond1]) / float(len(data[cond2]))\n",
    "\n",
    "# Number of females that survived"
   ]
  },
  {
   "cell_type": "code",
   "execution_count": 477,
   "metadata": {
    "collapsed": false
   },
   "outputs": [
    {
     "data": {
      "text/plain": [
       "<matplotlib.legend.Legend at 0x7f53fdba2350>"
      ]
     },
     "execution_count": 477,
     "metadata": {},
     "output_type": "execute_result"
    },
    {
     "data": {
      "image/png": "[encoded data removed]",
      "text/plain": [
       "<matplotlib.figure.Figure at 0x7f540088cd50>"
      ]
     },
     "metadata": {},
     "output_type": "display_data"
    }
   ],
   "source": [
    "# Let's plot this into a histogram\n",
    "cond = (data[\"Sex\"] == \"female\")\n",
    "fdata = data[cond][\"Sex\"].replace(\"female\", 0)\n",
    "\n",
    "plt.hist(fdata, label=\"female\")\n",
    "\n",
    "plt.legend()"
   ]
  },
  {
   "cell_type": "code",
   "execution_count": 478,
   "metadata": {
    "collapsed": false
   },
   "outputs": [
    {
     "data": {
      "text/plain": [
       "<matplotlib.legend.Legend at 0x7f53fddadf10>"
      ]
     },
     "execution_count": 478,
     "metadata": {},
     "output_type": "execute_result"
    },
    {
     "data": {
      "image/png": "[encoded data removed]",
      "text/plain": [
       "<matplotlib.figure.Figure at 0x7f53fd868110>"
      ]
     },
     "metadata": {},
     "output_type": "display_data"
    }
   ],
   "source": [
    "# Let's plot this into a histogram\n",
    "condS = (data[\"Sex\"] == \"female\") & (data[\"Survived\"] == 1)\n",
    "cond = (data[\"Sex\"] == \"female\")\n",
    "fdata = data[cond][\"Sex\"].replace(\"female\", 0)\n",
    "fsdata = data[condS][\"Sex\"].replace(\"female\", 0.1)\n",
    "\n",
    "plt.hist(fdata, label=\"female\")\n",
    "plt.hist(fsdata, label=\"female-survived\")\n",
    "\n",
    "\n",
    "plt.legend()"
   ]
  },
  {
   "cell_type": "code",
   "execution_count": 479,
   "metadata": {
    "collapsed": false
   },
   "outputs": [],
   "source": [
    "# Training Score\n",
    "result = data[\"Survived\"] == ((data[\"Survived\"]) & (data[\"Sex\"]==\"female\"))\n",
    "score = result.sum() / float(result.count())"
   ]
  },
  {
   "cell_type": "code",
   "execution_count": 480,
   "metadata": {
    "collapsed": false
   },
   "outputs": [
    {
     "data": {
      "text/plain": [
       "0.77595628415300544"
      ]
     },
     "execution_count": 480,
     "metadata": {},
     "output_type": "execute_result"
    }
   ],
   "source": [
    "score"
   ]
  },
  {
   "cell_type": "code",
   "execution_count": 481,
   "metadata": {
    "collapsed": false
   },
   "outputs": [
    {
     "data": {
      "text/plain": [
       "<matplotlib.legend.Legend at 0x7f53fda10dd0>"
      ]
     },
     "execution_count": 481,
     "metadata": {},
     "output_type": "execute_result"
    },
    {
     "data": {
      "image/png": "[encoded data removed]",
      "text/plain": [
       "<matplotlib.figure.Figure at 0x7f540088c4d0>"
      ]
     },
     "metadata": {},
     "output_type": "display_data"
    }
   ],
   "source": [
    "# Relationship between fare and age\n",
    "data=data.dropna()\n",
    "\n",
    "cond = (data[\"Sex\"]==\"female\")\n",
    "plt.scatter(data[cond][\"Fare\"], data[cond][\"Age\"], label=\"female\")\n",
    "\n",
    "# cond = (data[\"Sex\"]==\"male\")\n",
    "# plt.scatter(data[cond][\"Fare\"], data[cond][\"Age\"], label=\"male\")\n",
    "\n",
    "plt.xlabel(\"Fare\")\n",
    "plt.ylabel(\"Age\")\n",
    "plt.legend()"
   ]
  },
  {
   "cell_type": "code",
   "execution_count": 501,
   "metadata": {
    "collapsed": false
   },
   "outputs": [
    {
     "data": {
      "image/png": "[encoded data removed]",
      "text/plain": [
       "<matplotlib.figure.Figure at 0x7f53fe3f7bd0>"
      ]
     },
     "metadata": {},
     "output_type": "display_data"
    }
   ],
   "source": [
    "# Relationship between fare and survival\n",
    "data=data.dropna()\n",
    "condS = (data[\"Survived\"]==1)\n",
    "cond = (data[\"Survived\"]==0)\n",
    "\n",
    "stack = np.array(data[cond][\"Fare\"]), np.array(data[condS][\"Fare\"])\n",
    "\n",
    "plt.boxplot(np.array(data[cond][\"Fare\"]), positions=[1], labels=[\"deceased\"], showmeans=True)\n",
    "plt.legend()\n",
    "\n",
    "plt.ylabel(\"Fare\")\n",
    "plt.xlim(0.9,1.3)\n",
    "plt.legend()\n"
   ]
  },
  {
   "cell_type": "code",
   "execution_count": 500,
   "metadata": {
    "collapsed": false
   },
   "outputs": [
    {
     "data": {
      "image/png": "[encoded data removed]",
      "text/plain": [
       "<matplotlib.figure.Figure at 0x7f53feb8ff50>"
      ]
     },
     "metadata": {},
     "output_type": "display_data"
    }
   ],
   "source": [
    "# Relationship between fare and survival\n",
    "data=data.dropna()\n",
    "condS = (data[\"Survived\"]==1)\n",
    "cond = (data[\"Survived\"]==0)\n",
    "\n",
    "stack = np.array(data[cond][\"Fare\"]), np.array(data[condS][\"Fare\"])\n",
    "\n",
    "plt.boxplot(np.array(data[cond][\"Fare\"]), positions=[1], labels=[\"deceased\"], showmeans=True)\n",
    "plt.legend()\n",
    "\n",
    "plt.boxplot(np.array(data[condS][\"Fare\"]), positions=[1.2], labels=[\"survived\"], showmeans=True)\n",
    "\n",
    "\n",
    "plt.ylabel(\"Fare\")\n",
    "plt.xlim(0.9,1.3)\n",
    "plt.legend()"
   ]
  },
  {
   "cell_type": "code",
   "execution_count": 484,
   "metadata": {
    "collapsed": false
   },
   "outputs": [
    {
     "name": "stdout",
     "output_type": "stream",
     "text": [
      "[   0.       29.7      57.       90.      512.3292]\n"
     ]
    },
    {
     "data": {
      "text/plain": [
       "<matplotlib.text.Text at 0x7f53fe74ded0>"
      ]
     },
     "execution_count": 484,
     "metadata": {},
     "output_type": "execute_result"
    },
    {
     "data": {
      "image/png": "[encoded data removed]",
      "text/plain": [
       "<matplotlib.figure.Figure at 0x7f54006829d0>"
      ]
     },
     "metadata": {},
     "output_type": "display_data"
    }
   ],
   "source": [
    "# Economic class\n",
    "\n",
    "# Divide into 3 groups\n",
    "groups = np.percentile(data[\"Fare\"], [0, 25, 50, 75, 100])\n",
    "\n",
    "labels=[0,1,2,3]\n",
    "data[\"Fare_Group\"] = pd.cut(data[\"Fare\"], groups, labels=labels)\n",
    "\n",
    "\n",
    "print groups\n",
    "\n",
    "for i in labels:\n",
    "    cond = (data[\"Fare_Group\"]==i)\n",
    "    plt.hist(data[cond][\"Fare_Group\"], label=\"Group \" + str(i))\n",
    "\n",
    "    \n",
    "labels=[0.1,1.1,2.1,3.1]\n",
    "data[\"Fare_GroupS\"] = pd.cut(data[\"Fare\"], groups, labels=labels)\n",
    "\n",
    "for i in labels:\n",
    "    cond = (data[\"Fare_GroupS\"]==i) & (data[\"Survived\"] == 1)\n",
    "    plt.hist(data[cond][\"Fare_GroupS\"], label=\"Survived Group \" + str(i))\n",
    "    \n",
    "plt.ylabel(\"Count\")\n",
    "\n",
    "#plt.legend(loc=\"best\")"
   ]
  },
  {
   "cell_type": "code",
   "execution_count": 485,
   "metadata": {
    "collapsed": false
   },
   "outputs": [
    {
     "name": "stdout",
     "output_type": "stream",
     "text": [
      "[  0.92  10.    36.    47.5   80.  ]\n"
     ]
    },
    {
     "data": {
      "text/plain": [
       "<matplotlib.text.Text at 0x7f54004b8890>"
      ]
     },
     "execution_count": 485,
     "metadata": {},
     "output_type": "execute_result"
    },
    {
     "data": {
      "image/png": "[encoded data removed]",
      "text/plain": [
       "<matplotlib.figure.Figure at 0x7f540064a8d0>"
      ]
     },
     "metadata": {},
     "output_type": "display_data"
    }
   ],
   "source": [
    "# Economic class\n",
    "\n",
    "# Divide into 3 groups\n",
    "\n",
    "data[\"Age\"].dropna(inplace=True)\n",
    "\n",
    "groups = np.percentile(data[\"Age\"], [0, 25, 50, 75, 100])\n",
    "\n",
    "groups[1] = 10\n",
    "print groups\n",
    "\n",
    "labels=[0,1,2,3]\n",
    "data[\"Age_Group\"] = pd.cut(data[\"Age\"], groups, labels=labels)\n",
    "\n",
    "\n",
    "\n",
    "for i in labels:\n",
    "    cond = (data[\"Age_Group\"]==i)\n",
    "    plt.hist(data[cond][\"Age_Group\"], label=\"Group \" + str(i))\n",
    "\n",
    "    \n",
    "labels=[0.1,1.1,2.1,3.1]\n",
    "data[\"Age_GroupS\"] = pd.cut(data[\"Age\"], groups, labels=labels)\n",
    "\n",
    "for i in labels:\n",
    "    cond = (data[\"Age_GroupS\"]==i) & (data[\"Survived\"] == 1)\n",
    "    plt.hist(data[cond][\"Age_GroupS\"], label=\"Survived Group \" + str(i))\n",
    "    \n",
    "plt.ylabel(\"Count\")\n",
    "\n",
    "#plt.legend(loc=\"best\")"
   ]
  },
  {
   "cell_type": "code",
   "execution_count": 486,
   "metadata": {
    "collapsed": false
   },
   "outputs": [
    {
     "data": {
      "text/plain": [
       "0.6129032258064516"
      ]
     },
     "execution_count": 486,
     "metadata": {},
     "output_type": "execute_result"
    }
   ],
   "source": [
    "# Create a function\n",
    "def count(low, high):\n",
    "    nch = males[(males[\"Age\"] >= low) & (males[\"Age\"] < high)][\"Age\"].count()\n",
    "    nchs = males[(males[\"Age\"] >= low) & (males[\"Age\"] < high) & (males[\"Survived\"] == 1)][\"Age\"].count()\n",
    "\n",
    "    return (float(nchs) / nch)\n",
    "count(0, 10)"
   ]
  },
  {
   "cell_type": "code",
   "execution_count": 487,
   "metadata": {
    "collapsed": false
   },
   "outputs": [
    {
     "name": "stdout",
     "output_type": "stream",
     "text": [
      "Score-fare 0.513661202186\n",
      "Score-age 0.371584699454\n",
      "Score-sex 0.775956284153\n"
     ]
    }
   ],
   "source": [
    "# Score using age\n",
    "result = data[\"Survived\"] == ((data[\"Survived\"]) & (data[\"Fare\"]>90))\n",
    "score = result.sum() / float(result.count())\n",
    "print \"Score-fare\", score\n",
    "\n",
    "# Score using Fare\n",
    "result = data[\"Survived\"] == ((data[\"Survived\"]) & (data[\"Age\"]<10))\n",
    "score = result.sum() / float(result.count())\n",
    "print \"Score-age\", score\n",
    "\n",
    "# Score using Sex\n",
    "result = data[\"Survived\"] == ((data[\"Survived\"]) & (data[\"Sex\"]==\"female\"))\n",
    "score = result.sum() / float(result.count())\n",
    "print \"Score-sex\", score"
   ]
  },
  {
   "cell_type": "code",
   "execution_count": null,
   "metadata": {
    "collapsed": false
   },
   "outputs": [],
   "source": []
  },
  {
   "cell_type": "code",
   "execution_count": 488,
   "metadata": {
    "collapsed": false
   },
   "outputs": [
    {
     "name": "stdout",
     "output_type": "stream",
     "text": [
      "Index([u'PassengerId', u'Survived', u'Pclass', u'Name', u'Sex', u'Age',\n",
      "       u'SibSp', u'Parch', u'Ticket', u'Fare', u'Cabin', u'Embarked',\n",
      "       u'Fare_Group', u'Fare_GroupS', u'Age_Group', u'Age_GroupS'],\n",
      "      dtype='object')\n"
     ]
    },
    {
     "data": {
      "text/plain": [
       "0.80000000000000004"
      ]
     },
     "execution_count": 488,
     "metadata": {},
     "output_type": "execute_result"
    }
   ],
   "source": [
    "print data.columns\n",
    "ndata = data[[\"Age_Group\", \"Fare_Group\", \"Sex\", \"Survived\"]]\n",
    "\n",
    "data[\"Sex_n\"] = 0\n",
    "data[\"Sex_n\"][data[\"Sex\"] == \"female\"] = 1\n",
    "data[\"Sex_n\"][data[\"Sex\"] == \"male\"] = 0\n",
    "\n",
    "data = data.dropna()\n",
    "# Decision Tree\n",
    "from sklearn import tree\n",
    "\n",
    "clf = tree.DecisionTreeClassifier(max_depth=3)\n",
    "X = np.array(data[[\"Age\", \"Fare\", \"Sex_n\"]])\n",
    "y = np.array(data[[\"Survived\"]]).ravel()\n",
    "\n",
    "clf.fit(X, y)\n",
    "clf.score(X, y)\n",
    "\n",
    "# Use other sklearn methods\n",
    "\n"
   ]
  },
  {
   "cell_type": "code",
   "execution_count": 489,
   "metadata": {
    "collapsed": false
   },
   "outputs": [
    {
     "data": {
      "image/png": "[encoded data removed]",
      "text/plain": [
       "<IPython.core.display.Image object>"
      ]
     },
     "execution_count": 489,
     "metadata": {},
     "output_type": "execute_result"
    }
   ],
   "source": [
    "from IPython.display import Image  \n",
    "import pydotplus \n",
    "dot_data = tree.export_graphviz(clf, out_file=None, \n",
    "                         feature_names=[\"Age\", \"Fare\", \"Sex\"],  \n",
    "                         class_names=[\"Deceased\", \"Survived\"],  \n",
    "                         filled=True, rounded=True,  \n",
    "                         special_characters=True)  \n",
    "graph = pydotplus.graph_from_dot_data(dot_data)  \n",
    "Image(graph.create_png())  "
   ]
  },
  {
   "cell_type": "code",
   "execution_count": 493,
   "metadata": {
    "collapsed": false
   },
   "outputs": [],
   "source": [
    "# Exercise 1\n",
    "# Try different depths of the decision tree\n",
    "\n",
    "# Exercise 2\n",
    "# Use three sklearn methods and see which gives the highest score\n",
    "\n",
    "# from sklearn.linear_model import LogisticRegression\n",
    "# clf = LogisticRegression()\n",
    "# clf.fit(X, y)\n",
    "# clf.score(X, y)\n",
    "\n",
    "# from sklearn.ensemble import RandomForestClassifier\n",
    "# clf = RandomForestClassifier()\n",
    "# clf.fit(X, y)\n",
    "# clf.score(X, y)"
   ]
  },
  {
   "cell_type": "markdown",
   "metadata": {},
   "source": [
    "## Exercise 1: \n",
    "### Try different depths of the decision tree\n",
    "\n",
    "\n",
    "## Exercise 2: \n",
    "### Use three sklearn methods and see which gives the highest score"
   ]
  },
  {
   "cell_type": "code",
   "execution_count": null,
   "metadata": {
    "collapsed": true
   },
   "outputs": [],
   "source": []
  }
 ],
 "metadata": {
  "kernelspec": {
   "display_name": "Python 2",
   "language": "python",
   "name": "python2"
  },
  "language_info": {
   "codemirror_mode": {
    "name": "ipython",
    "version": 2
   },
   "file_extension": ".py",
   "mimetype": "text/x-python",
   "name": "python",
   "nbconvert_exporter": "python",
   "pygments_lexer": "ipython2",
   "version": "2.7.11"
  }
 },
 "nbformat": 4,
 "nbformat_minor": 0
}
