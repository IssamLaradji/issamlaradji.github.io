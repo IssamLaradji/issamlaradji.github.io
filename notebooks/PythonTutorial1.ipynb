{
 "cells": [
  {
   "cell_type": "code",
   "execution_count": 1,
   "metadata": {
    "collapsed": true
   },
   "outputs": [],
   "source": [
    "# IMPORT NEEDED LIBRARIES\n",
    "import pylab as plt\n",
    "%matplotlib inline \n",
    "\n",
    "import numpy as np "
   ]
  },
  {
   "cell_type": "markdown",
   "metadata": {},
   "source": [
    "# Basic Python Functions"
   ]
  },
  {
   "cell_type": "code",
   "execution_count": 2,
   "metadata": {
    "collapsed": false
   },
   "outputs": [
    {
     "name": "stdout",
     "output_type": "stream",
     "text": [
      "Hello World\n"
     ]
    }
   ],
   "source": [
    "# Hello World\n",
    "print \"Hello World\""
   ]
  },
  {
   "cell_type": "code",
   "execution_count": 3,
   "metadata": {
    "collapsed": false
   },
   "outputs": [
    {
     "name": "stdout",
     "output_type": "stream",
     "text": [
      "34\n"
     ]
    }
   ],
   "source": [
    "# (Numbers) Write code to print number 34\n",
    "print(34)"
   ]
  },
  {
   "cell_type": "code",
   "execution_count": 4,
   "metadata": {
    "collapsed": false
   },
   "outputs": [
    {
     "name": "stdout",
     "output_type": "stream",
     "text": [
      "408\n"
     ]
    }
   ],
   "source": [
    "# (Numbers) Write code to print the number 34 * 12\n",
    "print(34 * 12)"
   ]
  },
  {
   "cell_type": "code",
   "execution_count": 5,
   "metadata": {
    "collapsed": false
   },
   "outputs": [
    {
     "name": "stdout",
     "output_type": "stream",
     "text": [
      "648\n"
     ]
    }
   ],
   "source": [
    "# (Numbers) Write code to print the number 34 * 12 + 15 * 16 \n",
    "# using variables\n",
    "a = 34 * 12\n",
    "b = 15 * 16\n",
    "\n",
    "print(a + b)"
   ]
  },
  {
   "cell_type": "code",
   "execution_count": 6,
   "metadata": {
    "collapsed": false
   },
   "outputs": [
    {
     "name": "stdout",
     "output_type": "stream",
     "text": [
      "22.9200771872\n"
     ]
    }
   ],
   "source": [
    "# (Numbers) Write code to print the number log(120)^2\n",
    "print(np.log(120)**2)"
   ]
  },
  {
   "cell_type": "code",
   "execution_count": 7,
   "metadata": {
    "collapsed": false
   },
   "outputs": [
    {
     "data": {
      "text/plain": [
       "8"
      ]
     },
     "execution_count": 7,
     "metadata": {},
     "output_type": "execute_result"
    }
   ],
   "source": [
    "# Functions example\n",
    "def f(x):\n",
    "    return x + 3\n",
    "\n",
    "f(5)"
   ]
  },
  {
   "cell_type": "code",
   "execution_count": 8,
   "metadata": {
    "collapsed": false
   },
   "outputs": [
    {
     "name": "stdout",
     "output_type": "stream",
     "text": [
      "f(25) = 7.538\n"
     ]
    }
   ],
   "source": [
    "# Report the number of f(25)\n",
    "def f(x):\n",
    "    return np.log(3*(x**2) + 3)\n",
    "\n",
    "print(\"f(25) = %.3f\" % f(25))"
   ]
  },
  {
   "cell_type": "code",
   "execution_count": 9,
   "metadata": {
    "collapsed": false
   },
   "outputs": [
    {
     "name": "stdout",
     "output_type": "stream",
     "text": [
      "f(5) = 4.868\n"
     ]
    }
   ],
   "source": [
    "# Write a function that returns the log(x^3) + 5 \n",
    "def f(x):\n",
    "    return np.log((x**3) + 5)\n",
    "\n",
    "print(\"f(5) = %.3f\" % f(5))"
   ]
  },
  {
   "cell_type": "code",
   "execution_count": 10,
   "metadata": {
    "collapsed": false
   },
   "outputs": [
    {
     "name": "stdout",
     "output_type": "stream",
     "text": [
      "f(5, 3) = 134.000\n"
     ]
    }
   ],
   "source": [
    "# Write a function that returns the x^3 + y^2\n",
    "def f(x, y):\n",
    "    return (x**3) + (y**2)\n",
    "\n",
    "print(\"f(5, 3) = %.3f\" % f(5, 3))"
   ]
  },
  {
   "cell_type": "markdown",
   "metadata": {},
   "source": [
    "# Conditionals"
   ]
  },
  {
   "cell_type": "code",
   "execution_count": 11,
   "metadata": {
    "collapsed": false
   },
   "outputs": [
    {
     "name": "stdout",
     "output_type": "stream",
     "text": [
      "True\n",
      "False\n"
     ]
    }
   ],
   "source": [
    "# Write function that returns True if input is positive, \n",
    "# negative otherwise\n",
    "def pos_neg(n):\n",
    "    if n > 0:\n",
    "        return True\n",
    "    else:\n",
    "        return False\n",
    "    \n",
    "print(pos_neg(1))\n",
    "print(pos_neg(-1))"
   ]
  },
  {
   "cell_type": "code",
   "execution_count": 12,
   "metadata": {
    "collapsed": false
   },
   "outputs": [
    {
     "name": "stdout",
     "output_type": "stream",
     "text": [
      "True\n",
      "False\n"
     ]
    }
   ],
   "source": [
    "# Write function that returns True if input is larger than 100, \n",
    "# negative otherwise\n",
    "def isLarge(n):\n",
    "    if n > 100:\n",
    "        return True\n",
    "    else:\n",
    "        return False\n",
    "    \n",
    "print(isLarge(1003))\n",
    "print(isLarge(-1))"
   ]
  },
  {
   "cell_type": "code",
   "execution_count": 13,
   "metadata": {
    "collapsed": false
   },
   "outputs": [
    {
     "name": "stdout",
     "output_type": "stream",
     "text": [
      "hour 6: Annoying\n",
      "hour 15: Not Annoying\n"
     ]
    }
   ],
   "source": [
    "# print \"annoying\" if construction hour is between 7 (7:00 AM) \n",
    "# and 20 (8:00 PM)\n",
    "\n",
    "def isAnnoying(hour):\n",
    "    if (hour < 7) or (hour > 20):\n",
    "        return \"hour %d: Annoying\" % hour\n",
    "    else:\n",
    "        return \"hour %d: Not Annoying\" % hour\n",
    "    \n",
    "print(isAnnoying(6))\n",
    "print(isAnnoying(15))"
   ]
  },
  {
   "cell_type": "markdown",
   "metadata": {},
   "source": [
    "# For loops"
   ]
  },
  {
   "cell_type": "code",
   "execution_count": 14,
   "metadata": {
    "collapsed": false
   },
   "outputs": [
    {
     "name": "stdout",
     "output_type": "stream",
     "text": [
      "List Sum 32\n"
     ]
    }
   ],
   "source": [
    "# Define list\n",
    "ls = [2, 5, 6, 9, 10]\n",
    "\n",
    "# Write a for loop for summing the elements of the list\n",
    "s = 0\n",
    "for l in ls:\n",
    "    s = s + l\n",
    "    \n",
    "print(\"List Sum %d\" % s)"
   ]
  },
  {
   "cell_type": "code",
   "execution_count": 15,
   "metadata": {
    "collapsed": false
   },
   "outputs": [
    {
     "name": "stdout",
     "output_type": "stream",
     "text": [
      "Product 5400\n"
     ]
    }
   ],
   "source": [
    "# Define list\n",
    "ls = [2, 5, 6, 9, 10]\n",
    "\n",
    "# Write a for loop for summing the elements of the list\n",
    "p = 1\n",
    "for l in ls:\n",
    "    p = p * l\n",
    "    \n",
    "print(\"Product %d\" % p)\n"
   ]
  },
  {
   "cell_type": "code",
   "execution_count": 16,
   "metadata": {
    "collapsed": false
   },
   "outputs": [
    {
     "name": "stdout",
     "output_type": "stream",
     "text": [
      "Sum: 203\n"
     ]
    }
   ],
   "source": [
    "# Define list\n",
    "ls = [2, 5, 6, 9, 10]\n",
    "la = [-1, 3, 4, 5, 12]\n",
    "\n",
    "# Compute the sum of the element-wise products of ls and la\n",
    "\n",
    "s = 1\n",
    "for a, b in zip(ls, la):\n",
    "    s += a * b\n",
    "\n",
    "print(\"Sum: %d\" % s)"
   ]
  },
  {
   "cell_type": "code",
   "execution_count": 17,
   "metadata": {
    "collapsed": false
   },
   "outputs": [
    {
     "data": {
      "text/plain": [
       "100"
      ]
     },
     "execution_count": 17,
     "metadata": {},
     "output_type": "execute_result"
    }
   ],
   "source": [
    "# Compute vector products\n",
    "a = np.array([3,2,1,4,5,6])\n",
    "b = np.array([6,2,1,4,5,6])\n",
    "\n",
    "a.dot(b)"
   ]
  },
  {
   "cell_type": "code",
   "execution_count": 18,
   "metadata": {
    "collapsed": false
   },
   "outputs": [
    {
     "data": {
      "text/plain": [
       "array([ 9,  4,  1, 16, 25, 36])"
      ]
     },
     "execution_count": 18,
     "metadata": {},
     "output_type": "execute_result"
    }
   ],
   "source": [
    "# Element-wise squaring of the vector (or array)\n",
    "a ** 2"
   ]
  },
  {
   "cell_type": "code",
   "execution_count": 19,
   "metadata": {
    "collapsed": false
   },
   "outputs": [
    {
     "data": {
      "text/plain": [
       "<matplotlib.legend.Legend at 0x7f4b8bc825d0>"
      ]
     },
     "execution_count": 19,
     "metadata": {},
     "output_type": "execute_result"
    },
    {
     "data": {
      "image/png": "[encoded data removed]",
      "text/plain": [
       "<matplotlib.figure.Figure at 0x7f4b8f0a7e50>"
      ]
     },
     "metadata": {},
     "output_type": "display_data"
    }
   ],
   "source": [
    "# Visualization\n",
    "x = np.array([1, 2, 3, 4, 5, 6, 7, 8])\n",
    "\n",
    "# Plot y = x\n",
    "y = x\n",
    "plt.plot(x, y, label=\"y=x\")\n",
    "\n",
    "# Plot y = x^2\n",
    "y = x**2\n",
    "plt.plot(x, y, label=\"$y=x^2$\")\n",
    "\n",
    "# Plot y = x^3\n",
    "y = x**3\n",
    "plt.plot(x, y, label=\"$y=x^3$\")\n",
    "\n",
    "plt.legend()"
   ]
  }
 ],
 "metadata": {
  "kernelspec": {
   "display_name": "Python 2",
   "language": "python",
   "name": "python2"
  },
  "language_info": {
   "codemirror_mode": {
    "name": "ipython",
    "version": 2
   },
   "file_extension": ".py",
   "mimetype": "text/x-python",
   "name": "python",
   "nbconvert_exporter": "python",
   "pygments_lexer": "ipython2",
   "version": "2.7.11"
  }
 },
 "nbformat": 4,
 "nbformat_minor": 0
}
